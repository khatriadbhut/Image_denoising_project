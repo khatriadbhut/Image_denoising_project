{
  "cells": [
    {
      "cell_type": "markdown",
      "metadata": {
        "id": "view-in-github",
        "colab_type": "text"
      },
      "source": [
        "<a href=\"https://colab.research.google.com/github/khatriadbhut/Image_denoising_project/blob/main/Low_Light_enhancement.ipynb\" target=\"_parent\"><img src=\"https://colab.research.google.com/assets/colab-badge.svg\" alt=\"Open In Colab\"/></a>"
      ]
    },
    {
      "cell_type": "code",
      "execution_count": 1,
      "metadata": {
        "id": "mMbhXwtjgnXm"
      },
      "outputs": [],
      "source": [
        "import os\n",
        "\n",
        "os.environ[\"KERAS_BACKEND\"] = \"tensorflow\"\n",
        "\n",
        "import random\n",
        "import numpy as np\n",
        "from glob import glob\n",
        "from PIL import Image, ImageOps\n",
        "import matplotlib.pyplot as plt\n",
        "\n",
        "import keras\n",
        "from keras import layers\n",
        "\n",
        "import tensorflow as tf"
      ]
    },
    {
      "cell_type": "code",
      "execution_count": 2,
      "metadata": {
        "colab": {
          "base_uri": "https://localhost:8080/"
        },
        "id": "PVU69bhDnlxc",
        "outputId": "cb9c3879-1491-4f1c-980a-30b4962412fa"
      },
      "outputs": [
        {
          "output_type": "stream",
          "name": "stdout",
          "text": [
            "Requirement already satisfied: gdown in /usr/local/lib/python3.10/dist-packages (5.1.0)\n",
            "Requirement already satisfied: beautifulsoup4 in /usr/local/lib/python3.10/dist-packages (from gdown) (4.12.3)\n",
            "Requirement already satisfied: filelock in /usr/local/lib/python3.10/dist-packages (from gdown) (3.14.0)\n",
            "Requirement already satisfied: requests[socks] in /usr/local/lib/python3.10/dist-packages (from gdown) (2.31.0)\n",
            "Requirement already satisfied: tqdm in /usr/local/lib/python3.10/dist-packages (from gdown) (4.66.4)\n",
            "Requirement already satisfied: soupsieve>1.2 in /usr/local/lib/python3.10/dist-packages (from beautifulsoup4->gdown) (2.5)\n",
            "Requirement already satisfied: charset-normalizer<4,>=2 in /usr/local/lib/python3.10/dist-packages (from requests[socks]->gdown) (3.3.2)\n",
            "Requirement already satisfied: idna<4,>=2.5 in /usr/local/lib/python3.10/dist-packages (from requests[socks]->gdown) (3.7)\n",
            "Requirement already satisfied: urllib3<3,>=1.21.1 in /usr/local/lib/python3.10/dist-packages (from requests[socks]->gdown) (2.0.7)\n",
            "Requirement already satisfied: certifi>=2017.4.17 in /usr/local/lib/python3.10/dist-packages (from requests[socks]->gdown) (2024.6.2)\n",
            "Requirement already satisfied: PySocks!=1.5.7,>=1.5.6 in /usr/local/lib/python3.10/dist-packages (from requests[socks]->gdown) (1.7.1)\n"
          ]
        },
        {
          "output_type": "stream",
          "name": "stderr",
          "text": [
            "Downloading...\n",
            "From (original): https://drive.google.com/uc?id=1lNHqJmW8IJwpBbQkJC8ElfZZyBiWcDTi\n",
            "From (redirected): https://drive.google.com/uc?id=1lNHqJmW8IJwpBbQkJC8ElfZZyBiWcDTi&confirm=t&uuid=c1982c57-0052-49a9-b06a-8e15405e8eb7\n",
            "To: /content/lol_dataset.zip\n",
            "100%|██████████| 347M/347M [00:13<00:00, 25.1MB/s]\n"
          ]
        }
      ],
      "source": [
        "\n",
        "!pip install gdown\n",
        "import gdown\n",
        "\n",
        "file_id = '1lNHqJmW8IJwpBbQkJC8ElfZZyBiWcDTi'\n",
        "destination = 'lol_dataset.zip'\n",
        "\n",
        "url = f\"https://drive.google.com/uc?id={file_id}\"\n",
        "\n",
        "gdown.download(url, destination, quiet=False)\n",
        "\n",
        "!unzip -q lol_dataset.zip && rm lol_dataset.zip"
      ]
    },
    {
      "cell_type": "code",
      "execution_count": 3,
      "metadata": {
        "id": "RivVv-N_vLFN",
        "colab": {
          "base_uri": "https://localhost:8080/"
        },
        "outputId": "c1ca2ffb-7b95-469a-bfc4-7d9fdf16a248"
      },
      "outputs": [
        {
          "output_type": "stream",
          "name": "stdout",
          "text": [
            "Training Dataset: <_BatchDataset element_spec=TensorSpec(shape=(32, 256, 256, 3), dtype=tf.float32, name=None)>\n",
            "Validation Dataset: <_BatchDataset element_spec=TensorSpec(shape=(32, 256, 256, 3), dtype=tf.float32, name=None)>\n"
          ]
        }
      ],
      "source": [
        "SZ_IMG = 256\n",
        "SZ_BATCH = 32\n",
        "MAX_TRAIN_IMGS = 400\n",
        "\n",
        "def create_dataset(image_list):\n",
        "    ds = tf.data.Dataset.from_tensor_slices((image_list))\n",
        "    ds = ds.map(process_image, num_parallel_calls=tf.data.AUTOTUNE)\n",
        "    ds = ds.batch(SZ_BATCH, drop_remainder=True)\n",
        "    return ds\n",
        "\n",
        "def process_image(img_path):\n",
        "    img = tf.io.read_file(img_path)\n",
        "    img = tf.image.decode_png(img, channels=3)\n",
        "    img = tf.image.resize(images=img, size=[SZ_IMG, SZ_IMG])\n",
        "    img = img / 255.0\n",
        "    return img\n",
        "\n",
        "train_images = sorted(glob(\"./lol_dataset/our485/low/*\"))[:MAX_TRAIN_IMGS]\n",
        "val_images = sorted(glob(\"./lol_dataset/our485/low/*\"))[MAX_TRAIN_IMGS:]\n",
        "test_images = sorted(glob(\"./lol_dataset/eval15/low/*\"))\n",
        "\n",
        "\n",
        "train_ds = create_dataset(train_images)\n",
        "val_ds = create_dataset(val_images)\n",
        "\n",
        "print(\"Training Dataset:\", train_ds)\n",
        "print(\"Validation Dataset:\", val_ds)"
      ]
    },
    {
      "cell_type": "code",
      "execution_count": 4,
      "metadata": {
        "id": "4bTHwcJ2wijN"
      },
      "outputs": [],
      "source": [
        "def build_dce_net():\n",
        "    input_image = keras.Input(shape=[None, None, 3])\n",
        "\n",
        "    # First set of convolutional layers\n",
        "    conv1 = layers.Conv2D(32, (3, 3), strides=(1, 1), activation=\"relu\", padding=\"same\")(input_image)\n",
        "    conv2 = layers.Conv2D(32, (3, 3), strides=(1, 1), activation=\"relu\", padding=\"same\")(conv1)\n",
        "    conv3 = layers.Conv2D(32, (3, 3), strides=(1, 1), activation=\"relu\", padding=\"same\")(conv2)\n",
        "    conv4 = layers.Conv2D(32, (3, 3), strides=(1, 1), activation=\"relu\", padding=\"same\")(conv3)\n",
        "\n",
        "    # Concatenation layers in between additional convolution layers\n",
        "    concat_layer1 = layers.Concatenate(axis=-1)([conv4, conv3])\n",
        "    conv5 = layers.Conv2D(32, (3, 3), strides=(1, 1), activation=\"relu\", padding=\"same\")(concat_layer1)\n",
        "    concat_layer2 = layers.Concatenate(axis=-1)([conv5, conv2])\n",
        "    conv6 = layers.Conv2D(32, (3, 3), strides=(1, 1), activation=\"relu\", padding=\"same\")(concat_layer2)\n",
        "    concat_layer3 = layers.Concatenate(axis=-1)([conv6, conv1])\n",
        "\n",
        "    # Output layer\n",
        "    output_image = layers.Conv2D(24, (3, 3), strides=(1, 1), activation=\"tanh\", padding=\"same\")(concat_layer3)\n",
        "\n",
        "    return keras.Model(inputs=input_image, outputs=output_image)\n"
      ]
    },
    {
      "cell_type": "code",
      "execution_count": 5,
      "metadata": {
        "id": "1gaYQJ4D2AIB"
      },
      "outputs": [],
      "source": [
        "def color_constancy_loss(x):\n",
        "    mean_rgb = tf.reduce_mean(x, axis=(1, 2), keepdims=True)\n",
        "    mr, mg, mb = (\n",
        "        mean_rgb[:, :, :, 0],\n",
        "        mean_rgb[:, :, :, 1],\n",
        "        mean_rgb[:, :, :, 2],\n",
        "    )\n",
        "    d_rg = tf.square(mr - mg)\n",
        "    d_rb = tf.square(mr - mb)\n",
        "    d_gb = tf.square(mb - mg)\n",
        "    return tf.sqrt(tf.square(d_rg) + tf.square(d_rb) + tf.square(d_gb))\n"
      ]
    },
    {
      "cell_type": "code",
      "execution_count": 6,
      "metadata": {
        "id": "vu6SQG7CHQZZ"
      },
      "outputs": [],
      "source": [
        "\n",
        "def exposure_loss(x, mean_val=0.6):\n",
        "    x = tf.reduce_mean(x, axis=3, keepdims=True)\n",
        "    mean = tf.nn.avg_pool2d(x, ksize=16, strides=16, padding=\"VALID\")\n",
        "    return tf.reduce_mean(tf.square(mean - mean_val))"
      ]
    },
    {
      "cell_type": "code",
      "source": [
        "\n",
        "def illumination_smoothness_loss(x):\n",
        "    batch_size = tf.shape(x)[0]\n",
        "    h_x = tf.shape(x)[1]\n",
        "    w_x = tf.shape(x)[2]\n",
        "    count_h = (tf.shape(x)[2] - 1) * tf.shape(x)[3]\n",
        "    count_w = tf.shape(x)[2] * (tf.shape(x)[3] - 1)\n",
        "    h_tv = tf.reduce_sum(tf.square((x[:, 1:, :, :] - x[:, : h_x - 1, :, :])))\n",
        "    w_tv = tf.reduce_sum(tf.square((x[:, :, 1:, :] - x[:, :, : w_x - 1, :])))\n",
        "    batch_size = tf.cast(batch_size, dtype=tf.float32)\n",
        "    count_h = tf.cast(count_h, dtype=tf.float32)\n",
        "    count_w = tf.cast(count_w, dtype=tf.float32)\n",
        "    return 2 * (h_tv / count_h + w_tv / count_w) / batch_size\n"
      ],
      "metadata": {
        "id": "8r0DjzrPRCpB"
      },
      "execution_count": 7,
      "outputs": []
    },
    {
      "cell_type": "markdown",
      "metadata": {
        "id": "OA7oFr5XHm1v"
      },
      "source": []
    },
    {
      "cell_type": "code",
      "execution_count": 8,
      "metadata": {
        "id": "wxd1lNxaHW5M"
      },
      "outputs": [],
      "source": [
        "\n",
        "class SpatialConsistencyLoss(keras.losses.Loss):\n",
        "    def __init__(self, **kwargs):\n",
        "        super().__init__(reduction=\"none\")\n",
        "\n",
        "        self.left_kernel = tf.constant(\n",
        "            [[[[0, 0, 0]], [[-1, 1, 0]], [[0, 0, 0]]]], dtype=tf.float32\n",
        "        )\n",
        "        self.right_kernel = tf.constant(\n",
        "            [[[[0, 0, 0]], [[0, 1, -1]], [[0, 0, 0]]]], dtype=tf.float32\n",
        "        )\n",
        "        self.up_kernel = tf.constant(\n",
        "            [[[[0, -1, 0]], [[0, 1, 0]], [[0, 0, 0]]]], dtype=tf.float32\n",
        "        )\n",
        "        self.down_kernel = tf.constant(\n",
        "            [[[[0, 0, 0]], [[0, 1, 0]], [[0, -1, 0]]]], dtype=tf.float32\n",
        "        )\n",
        "\n",
        "    def call(self, y_true, y_pred):\n",
        "        original_mean = tf.reduce_mean(y_true, 3, keepdims=True)\n",
        "        enhanced_mean = tf.reduce_mean(y_pred, 3, keepdims=True)\n",
        "        original_pool = tf.nn.avg_pool2d(\n",
        "            original_mean, ksize=4, strides=4, padding=\"VALID\"\n",
        "        )\n",
        "        enhanced_pool = tf.nn.avg_pool2d(\n",
        "            enhanced_mean, ksize=4, strides=4, padding=\"VALID\"\n",
        "        )\n",
        "\n",
        "        d_original_left = tf.nn.conv2d(\n",
        "            original_pool,\n",
        "            self.left_kernel,\n",
        "            strides=[1, 1, 1, 1],\n",
        "            padding=\"SAME\",\n",
        "        )\n",
        "        d_original_right = tf.nn.conv2d(\n",
        "            original_pool,\n",
        "            self.right_kernel,\n",
        "            strides=[1, 1, 1, 1],\n",
        "            padding=\"SAME\",\n",
        "        )\n",
        "        d_original_up = tf.nn.conv2d(\n",
        "            original_pool, self.up_kernel, strides=[1, 1, 1, 1], padding=\"SAME\"\n",
        "        )\n",
        "        d_original_down = tf.nn.conv2d(\n",
        "            original_pool,\n",
        "            self.down_kernel,\n",
        "            strides=[1, 1, 1, 1],\n",
        "            padding=\"SAME\",\n",
        "        )\n",
        "\n",
        "        d_enhanced_left = tf.nn.conv2d(\n",
        "            enhanced_pool,\n",
        "            self.left_kernel,\n",
        "            strides=[1, 1, 1, 1],\n",
        "            padding=\"SAME\",\n",
        "        )\n",
        "        d_enhanced_right = tf.nn.conv2d(\n",
        "            enhanced_pool,\n",
        "            self.right_kernel,\n",
        "            strides=[1, 1, 1, 1],\n",
        "            padding=\"SAME\",\n",
        "        )\n",
        "        d_enhanced_up = tf.nn.conv2d(\n",
        "            enhanced_pool, self.up_kernel, strides=[1, 1, 1, 1], padding=\"SAME\"\n",
        "        )\n",
        "        d_enhanced_down = tf.nn.conv2d(\n",
        "            enhanced_pool,\n",
        "            self.down_kernel,\n",
        "            strides=[1, 1, 1, 1],\n",
        "            padding=\"SAME\",\n",
        "        )\n",
        "\n",
        "        d_left = tf.square(d_original_left - d_enhanced_left)\n",
        "        d_right = tf.square(d_original_right - d_enhanced_right)\n",
        "        d_up = tf.square(d_original_up - d_enhanced_up)\n",
        "        d_down = tf.square(d_original_down - d_enhanced_down)\n",
        "        return d_left + d_right + d_up + d_down\n"
      ]
    },
    {
      "cell_type": "code",
      "execution_count": 9,
      "metadata": {
        "id": "SXG-xEi7F1te"
      },
      "outputs": [],
      "source": [
        "\n",
        "class ZeroDCE(keras.Model):\n",
        "    def __init__(self, **kwargs):\n",
        "        super().__init__(**kwargs)\n",
        "        self.dce_model = build_dce_net()\n",
        "\n",
        "    def compile(self, learning_rate, **kwargs):\n",
        "        super().compile(**kwargs)\n",
        "        self.optimizer = keras.optimizers.Adam(learning_rate=learning_rate)\n",
        "        self.spatial_constancy_loss = SpatialConsistencyLoss(reduction=\"none\")\n",
        "        self.total_loss_tracker = keras.metrics.Mean(name=\"total_loss\")\n",
        "        self.illumination_smoothness_loss_tracker = keras.metrics.Mean(\n",
        "            name=\"illumination_smoothness_loss\"\n",
        "        )\n",
        "        self.spatial_constancy_loss_tracker = keras.metrics.Mean(\n",
        "            name=\"spatial_constancy_loss\"\n",
        "        )\n",
        "        self.color_constancy_loss_tracker = keras.metrics.Mean(\n",
        "            name=\"color_constancy_loss\"\n",
        "        )\n",
        "        self.exposure_loss_tracker = keras.metrics.Mean(name=\"exposure_loss\")\n",
        "      #  self.perceptual_loss_tracker = keras.metrics.Mean(name=\"perceptual_loss\")\n",
        "        self.ssim_loss_tracker = keras.metrics.Mean(name=\"ssim_loss\")\n",
        "        self.total_variation_loss_tracker = keras.metrics.Mean(name=\"total_variation_loss\")\n",
        "\n",
        "    @property\n",
        "    def metrics(self):\n",
        "        return [\n",
        "            self.total_loss_tracker,\n",
        "            self.illumination_smoothness_loss_tracker,\n",
        "            self.spatial_constancy_loss_tracker,\n",
        "            self.color_constancy_loss_tracker,\n",
        "            self.exposure_loss_tracker,\n",
        "     #       self.perceptual_loss_tracker,\n",
        "            self.ssim_loss_tracker,\n",
        "            self.total_variation_loss_tracker,\n",
        "        ]\n",
        "\n",
        "    def get_enhanced_image(self, data, output):\n",
        "        r1 = output[:, :, :, :3]\n",
        "        r2 = output[:, :, :, 3:6]\n",
        "        r3 = output[:, :, :, 6:9]\n",
        "        r4 = output[:, :, :, 9:12]\n",
        "        r5 = output[:, :, :, 12:15]\n",
        "        r6 = output[:, :, :, 15:18]\n",
        "        r7 = output[:, :, :, 18:21]\n",
        "        r8 = output[:, :, :, 21:24]\n",
        "        x = data + r1 * (tf.square(data) - data)\n",
        "        x = x + r2 * (tf.square(x) - x)\n",
        "        x = x + r3 * (tf.square(x) - x)\n",
        "        enhanced_image = x + r4 * (tf.square(x) - x)\n",
        "        x = enhanced_image + r5 * (tf.square(enhanced_image) - enhanced_image)\n",
        "        x = x + r6 * (tf.square(x) - x)\n",
        "        x = x + r7 * (tf.square(x) - x)\n",
        "        enhanced_image = x + r8 * (tf.square(x) - x)\n",
        "        return enhanced_image\n",
        "\n",
        "    def call(self, data):\n",
        "        dce_net_output = self.dce_model(data)\n",
        "        return self.get_enhanced_image(data, dce_net_output)\n",
        "\n",
        "    def compute_losses(self, data, output):\n",
        "        enhanced_image = self.get_enhanced_image(data, output)\n",
        "        loss_illumination = 200 * illumination_smoothness_loss(output)\n",
        "        loss_spatial_constancy = tf.reduce_mean(\n",
        "            self.spatial_constancy_loss(enhanced_image, data)\n",
        "        )\n",
        "        loss_color_constancy = 5 * tf.reduce_mean(color_constancy_loss(enhanced_image))\n",
        "        loss_exposure = 10 * tf.reduce_mean(exposure_loss(enhanced_image))\n",
        "\n",
        "    #    perceptual_loss = VGGPerceptualLoss()(data, enhanced_image)\n",
        "        ssim_loss = 1 - tf.image.ssim(data, enhanced_image, max_val=1.0)\n",
        "        tv_loss = tf.reduce_sum(tf.image.total_variation(enhanced_image))\n",
        "\n",
        "        total_loss = (\n",
        "            loss_illumination\n",
        "            + loss_spatial_constancy\n",
        "            + loss_color_constancy\n",
        "            + loss_exposure\n",
        "   #         + perceptual_loss\n",
        "            + ssim_loss\n",
        "            + 0.1 * tv_loss\n",
        "        )\n",
        "\n",
        "        return {\n",
        "            \"total_loss\": total_loss,\n",
        "            \"illumination_smoothness_loss\": loss_illumination,\n",
        "            \"spatial_constancy_loss\": loss_spatial_constancy,\n",
        "            \"color_constancy_loss\": loss_color_constancy,\n",
        "            \"exposure_loss\": loss_exposure,\n",
        "  #          \"perceptual_loss\": perceptual_loss,\n",
        "            \"ssim_loss\": ssim_loss,\n",
        "            \"total_variation_loss\": tv_loss,\n",
        "        }\n",
        "\n",
        "    def train_step(self, data):\n",
        "        with tf.GradientTape() as tape:\n",
        "            output = self.dce_model(data)\n",
        "            losses = self.compute_losses(data, output)\n",
        "\n",
        "        gradients = tape.gradient(\n",
        "            losses[\"total_loss\"], self.dce_model.trainable_weights\n",
        "        )\n",
        "        self.optimizer.apply_gradients(zip(gradients, self.dce_model.trainable_weights))\n",
        "\n",
        "        self.total_loss_tracker.update_state(losses[\"total_loss\"])\n",
        "        self.illumination_smoothness_loss_tracker.update_state(\n",
        "            losses[\"illumination_smoothness_loss\"]\n",
        "        )\n",
        "        self.spatial_constancy_loss_tracker.update_state(\n",
        "            losses[\"spatial_constancy_loss\"]\n",
        "        )\n",
        "        self.color_constancy_loss_tracker.update_state(losses[\"color_constancy_loss\"])\n",
        "        self.exposure_loss_tracker.update_state(losses[\"exposure_loss\"])\n",
        " #       self.perceptual_loss_tracker.update_state(losses[\"perceptual_loss\"])\n",
        "        self.ssim_loss_tracker.update_state(losses[\"ssim_loss\"])\n",
        "        self.total_variation_loss_tracker.update_state(losses[\"total_variation_loss\"])\n",
        "\n",
        "        return {metric.name: metric.result() for metric in self.metrics}\n",
        "\n",
        "    def test_step(self, data):\n",
        "        output = self.dce_model(data)\n",
        "        losses = self.compute_losses(data, output)\n",
        "\n",
        "        self.total_loss_tracker.update_state(losses[\"total_loss\"])\n",
        "        self.illumination_smoothness_loss_tracker.update_state(\n",
        "            losses[\"illumination_smoothness_loss\"]\n",
        "        )\n",
        "        self.spatial_constancy_loss_tracker.update_state(\n",
        "            losses[\"spatial_constancy_loss\"]\n",
        "        )\n",
        "        self.color_constancy_loss_tracker.update_state(losses[\"color_constancy_loss\"])\n",
        "        self.exposure_loss_tracker.update_state(losses[\"exposure_loss\"])\n",
        "#        self.perceptual_loss_tracker.update_state(losses[\"perceptual_loss\"])\n",
        "        self.ssim_loss_tracker.update_state(losses[\"ssim_loss\"])\n",
        "        self.total_variation_loss_tracker.update_state(losses[\"total_variation_loss\"])\n",
        "\n",
        "        return {metric.name: metric.result() for metric in self.metrics}\n",
        "\n",
        "    def save_weights(self, filepath, overwrite=True, save_format=None, options=None):\n",
        "        \"\"\"While saving the weights, we simply save the weights of the DCE-Net\"\"\"\n",
        "        self.dce_model.save_weights(\n",
        "            filepath,\n",
        "            overwrite=overwrite,\n",
        "            save_format=save_format,\n",
        "            options=options,\n",
        "        )\n",
        "\n",
        "    def load_weights(self, filepath, by_name=False, skip_mismatch=False, options=None):\n",
        "        \"\"\"While loading the weights, we simply load the weights of the DCE-Net\"\"\"\n",
        "        self.dce_model.load_weights(\n",
        "            filepath=filepath,\n",
        "            by_name=by_name,\n",
        "            skip_mismatch=skip_mismatch,\n",
        "            options=options,\n",
        "        )\n"
      ]
    },
    {
      "cell_type": "code",
      "execution_count": null,
      "metadata": {
        "id": "HoisKN7RGfmt",
        "colab": {
          "base_uri": "https://localhost:8080/"
        },
        "outputId": "f61b4d5f-c975-42c9-da8f-2329810bb189"
      },
      "outputs": [
        {
          "output_type": "stream",
          "name": "stdout",
          "text": [
            "Epoch 1/100\n",
            "12/12 [==============================] - 935s 76s/step - total_loss: 8725.1162 - illumination_smoothness_loss: 4.0346 - spatial_constancy_loss: 5.5981e-05 - color_constancy_loss: 0.0028 - exposure_loss: 2.9788 - ssim_loss: 0.0019 - total_variation_loss: 87180.9766 - val_total_loss: 11788.4854 - val_illumination_smoothness_loss: 7.1653 - val_spatial_constancy_loss: 1.6431e-04 - val_color_constancy_loss: 0.0023 - val_exposure_loss: 3.0053 - val_ssim_loss: 0.0061 - val_total_variation_loss: 117783.0625\n",
            "Epoch 2/100\n",
            "12/12 [==============================] - 944s 79s/step - total_loss: 7642.2017 - illumination_smoothness_loss: 4.6672 - spatial_constancy_loss: 8.6563e-04 - color_constancy_loss: 0.0022 - exposure_loss: 3.0622 - ssim_loss: 0.0186 - total_variation_loss: 76344.5078 - val_total_loss: 9674.4355 - val_illumination_smoothness_loss: 8.7238 - val_spatial_constancy_loss: 0.0013 - val_color_constancy_loss: 0.0015 - val_exposure_loss: 3.1212 - val_ssim_loss: 0.0504 - val_total_variation_loss: 96625.3672\n",
            "Epoch 3/100\n",
            "12/12 [==============================] - 923s 77s/step - total_loss: 5574.1265 - illumination_smoothness_loss: 7.3849 - spatial_constancy_loss: 0.0041 - color_constancy_loss: 0.0012 - exposure_loss: 3.2308 - ssim_loss: 0.1246 - total_variation_loss: 55633.8125 - val_total_loss: 5640.0376 - val_illumination_smoothness_loss: 15.1756 - val_spatial_constancy_loss: 0.0049 - val_color_constancy_loss: 4.5927e-04 - val_exposure_loss: 3.3437 - val_ssim_loss: 0.2835 - val_total_variation_loss: 56212.2930\n",
            "Epoch 4/100\n",
            " 1/12 [=>............................] - ETA: 13:18 - total_loss: 3572.0686 - illumination_smoothness_loss: 8.6716 - spatial_constancy_loss: 0.0037 - color_constancy_loss: 5.9038e-04 - exposure_loss: 3.3636 - ssim_loss: 0.2245 - total_variation_loss: 35598.0469"
          ]
        }
      ],
      "source": [
        "# Initialize and compile the model\n",
        "zero_dce_model = ZeroDCE()\n",
        "zero_dce_model.compile(learning_rate=1e-4)\n",
        "\n",
        "# Train the model\n",
        "history = zero_dce_model.fit(train_ds, validation_data=val_ds, epochs=100)\n",
        "\n",
        "# Function to plot the training and validation losses over epochs\n",
        "def plot_result(item):\n",
        "    plt.plot(history.history[item], label=item)\n",
        "    plt.plot(history.history[\"val_\" + item], label=\"val_\" + item)\n",
        "    plt.xlabel(\"Epochs\")\n",
        "    plt.ylabel(item)\n",
        "    plt.title(\"Train and Validation {} Over Epochs\".format(item), fontsize=14)\n",
        "    plt.legend()\n",
        "    plt.grid()\n",
        "    plt.show()\n",
        "\n",
        "# Plot the losses\n",
        "plot_result(\"total_loss\")\n",
        "plot_result(\"illumination_smoothness_loss\")\n",
        "plot_result(\"spatial_constancy_loss\")\n",
        "plot_result(\"color_constancy_loss\")\n",
        "plot_result(\"exposure_loss\")\n",
        "#plot_result(\"perceptual_loss\")\n",
        "plot_result(\"ssim_loss\")\n",
        "plot_result(\"total_variation_loss\")\n"
      ]
    },
    {
      "cell_type": "code",
      "execution_count": null,
      "metadata": {
        "id": "YgMmxbzcG4sf"
      },
      "outputs": [],
      "source": [
        "\n",
        "def plot_results(images, titles, figure_size=(12, 12)):\n",
        "    fig = plt.figure(figsize=figure_size)\n",
        "    for i in range(len(images)):\n",
        "        fig.add_subplot(1, len(images), i + 1).set_title(titles[i])\n",
        "        _ = plt.imshow(images[i])\n",
        "        plt.axis(\"off\")\n",
        "    plt.show()\n",
        "\n",
        "\n",
        "def infer(original_image):\n",
        "    image = keras.utils.img_to_array(original_image)\n",
        "    image = image.astype(\"float32\") / 255.0\n",
        "    image = np.expand_dims(image, axis=0)\n",
        "    output_image = zero_dce_model(image)\n",
        "    output_image = tf.cast((output_image[0, :, :, :] * 255), dtype=np.uint8)\n",
        "    output_image = Image.fromarray(output_image.numpy())\n",
        "    return output_image"
      ]
    },
    {
      "cell_type": "code",
      "execution_count": null,
      "metadata": {
        "id": "beDv2sItG7SA"
      },
      "outputs": [],
      "source": [
        "for val_image_file in test_images:\n",
        "    original_image = Image.open(val_image_file)\n",
        "    enhanced_image = infer(original_image)\n",
        "    plot_results(\n",
        "        [original_image, ImageOps.autocontrast(original_image), enhanced_image],\n",
        "        [\"Original\", \"PIL Autocontrast\", \"Enhanced\"],\n",
        "        (20, 12),\n",
        "    )"
      ]
    },
    {
      "cell_type": "code",
      "source": [
        "def calculate_psnr_for_model(model, test_dataset):\n",
        "\n",
        "    psnr_values = []\n",
        "\n",
        "    for data in test_dataset:\n",
        "        true_images = data\n",
        "        predicted_images = model(data, training=False)  # Get model predictions\n",
        "        psnr_value = tf.image.psnr(true_images, predicted_images, max_val=1.0)\n",
        "        psnr_values.append(psnr_value)\n",
        "\n",
        "    average_psnr = tf.reduce_mean(psnr_values)\n",
        "    return average_psnr.numpy()\n",
        "\n",
        "average_psnr = calculate_psnr_for_model(zero_dce_model, test_ds)\n",
        "print(f\"Average PSNR for the test dataset: {average_psnr:.2f} dB\")\n"
      ],
      "metadata": {
        "id": "V9w17lb3ASr4"
      },
      "execution_count": null,
      "outputs": []
    },
    {
      "cell_type": "markdown",
      "metadata": {
        "id": "pglPKAqQF1K_"
      },
      "source": []
    }
  ],
  "metadata": {
    "colab": {
      "provenance": [],
      "gpuType": "T4",
      "authorship_tag": "ABX9TyPBPOAvZbgxDm3lb6+ocXIo",
      "include_colab_link": true
    },
    "kernelspec": {
      "display_name": "Python 3",
      "name": "python3"
    },
    "language_info": {
      "name": "python"
    },
    "accelerator": "GPU"
  },
  "nbformat": 4,
  "nbformat_minor": 0
}